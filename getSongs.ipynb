{
 "cells": [
  {
   "cell_type": "code",
   "execution_count": 1,
   "metadata": {},
   "outputs": [],
   "source": [
    "import datetime\n",
    "import requests\n",
    "from lxml import etree\n",
    "import re\n",
    "from dataclasses import dataclass\n",
    "from typing import Optional, Union\n",
    "import pickle"
   ]
  },
  {
   "cell_type": "code",
   "execution_count": 2,
   "metadata": {},
   "outputs": [],
   "source": [
    "pattern_title = re.compile(r'^収録曲/(かんたん|ふつう|むずかしい|おに)/(.+)$')\n",
    "pattern_date = re.compile(r'^\\d{4}/\\d{1,2}/\\d{1,2}$')\n",
    "pattern_date_special = re.compile(r'^\\d{2}/\\d{1,2}/\\d{1,2}$')"
   ]
  },
  {
   "cell_type": "code",
   "execution_count": 3,
   "metadata": {},
   "outputs": [
    {
     "data": {
      "text/plain": [
       "datetime.date(2023, 5, 3)"
      ]
     },
     "execution_count": 3,
     "metadata": {},
     "output_type": "execute_result"
    }
   ],
   "source": [
    "datetime.datetime.strptime('23/5/3', '%y/%m/%d').date()"
   ]
  },
  {
   "cell_type": "code",
   "execution_count": 4,
   "metadata": {},
   "outputs": [],
   "source": [
    "@dataclass(frozen=True)\n",
    "class Song:\n",
    "    title: str\n",
    "    date: Optional[datetime.date]\n",
    "    work: Optional[str]\n",
    "\n",
    "\n",
    "def create_songs(line: etree._ElementTree) -> list[Song]:\n",
    "    # s = etree.tostring(line, encoding=str)\n",
    "    diff = [e for e in line.xpath('.//a') if 'title' in e.attrib]\n",
    "    titles = set(\n",
    "        [pattern_title.match(e.attrib['title']).group(2) for e in diff]\n",
    "    )\n",
    "    # 裏譜面を別とする仕様を削除\n",
    "    titles = list(filter(lambda x: len(x) == min(map(len, titles)), titles))\n",
    "    if len(line) == 7:\n",
    "        return [Song(title, None, None) for title in titles]\n",
    "    # args = line.xpath('td//strong/text()')\n",
    "    args = [\n",
    "        '/'.join(td.xpath('.//strong/text()')) for td in line.xpath('.//td')\n",
    "    ]\n",
    "    # print(args)\n",
    "    try:\n",
    "        if len(line) == 9:\n",
    "            return [\n",
    "                Song(\n",
    "                    title,\n",
    "                    get_date(args[1]),\n",
    "                    args[0],\n",
    "                )\n",
    "                for title in titles\n",
    "            ]\n",
    "        if pattern_date.match(args[0]) or pattern_date_special.match(args[0]):\n",
    "            return [\n",
    "                Song(\n",
    "                    title,\n",
    "                    get_date(args[0]),\n",
    "                    None,\n",
    "                )\n",
    "                for title in titles\n",
    "            ]\n",
    "    except ValueError:\n",
    "        # print(s)\n",
    "        print(args)\n",
    "        return []\n",
    "    return [Song(title, None, args[0]) for title in titles]\n",
    "\n",
    "\n",
    "def get_date(s: str) -> datetime.datetime:\n",
    "    if pattern_date_special.match(s):\n",
    "        return datetime.datetime.strptime(s, '%y/%m/%d').date()\n",
    "    return datetime.datetime.strptime(s, '%Y/%m/%d').date()\n",
    "\n",
    "\n",
    "def interpolate(data: list[Song]) -> list[Song]:\n",
    "    new_data = [data[0]]\n",
    "    for d in data[1:]:\n",
    "        date = new_data[-1].date if d.date is None else d.date\n",
    "        work = new_data[-1].work if d.work is None else d.work\n",
    "        new_data.append(Song(d.title, date, work))\n",
    "    return new_data"
   ]
  },
  {
   "cell_type": "code",
   "execution_count": 5,
   "metadata": {},
   "outputs": [],
   "source": [
    "def get_songs_from_release(url):\n",
    "    response = requests.get(url)\n",
    "    html = etree.HTML(response.text)\n",
    "    tables = html.xpath('//table')\n",
    "    rows = [table.xpath('./tbody/tr') for table in tables]\n",
    "    rows = sum([r for r in rows if len(r) > 50], [])\n",
    "    data = [row for row in rows if len(row) > 1]\n",
    "    songs = interpolate(sum(map(create_songs, data), []))\n",
    "    return songs"
   ]
  },
  {
   "cell_type": "code",
   "execution_count": 6,
   "metadata": {},
   "outputs": [],
   "source": [
    "urls = [\n",
    "    'https://wikiwiki.jp/taiko-fumen/%E5%8F%8E%E9%8C%B2%E6%9B%B2/%E5%88%9D%E5%87%BA%E9%A0%86',\n",
    "    'https://wikiwiki.jp/taiko-fumen/%E5%8F%8E%E9%8C%B2%E6%9B%B2/%E5%88%9D%E5%87%BA%E9%A0%86/%E6%96%B0%E7%AD%90%E4%BD%93%E4%BB%A5%E9%99%8D',\n",
    "    'https://wikiwiki.jp/taiko-fumen/%E5%8F%8E%E9%8C%B2%E6%9B%B2/%E5%88%9D%E5%87%BA%E9%A0%86/%E6%96%B0%E7%AD%90%E4%BD%932%E4%BB%A5%E9%99%8D',\n",
    "]"
   ]
  },
  {
   "cell_type": "code",
   "execution_count": 7,
   "metadata": {},
   "outputs": [
    {
     "name": "stdout",
     "output_type": "stream",
     "text": [
      "['RT', '2004/11/中旬', '春夏秋冬ドンドコドン', '', '', '', '', '', '']\n"
     ]
    }
   ],
   "source": [
    "songs = sum([get_songs_from_release(url) for url in urls], [])"
   ]
  },
  {
   "cell_type": "code",
   "execution_count": 8,
   "metadata": {},
   "outputs": [],
   "source": [
    "songs.sort(key=lambda x: x.date)\n",
    "with open('songs.pkl', 'bw') as f:\n",
    "    pickle.dump(songs, f)"
   ]
  }
 ],
 "metadata": {
  "kernelspec": {
   "display_name": "Python 3 (ipykernel)",
   "language": "python",
   "name": "python3"
  },
  "language_info": {
   "codemirror_mode": {
    "name": "ipython",
    "version": 3
   },
   "file_extension": ".py",
   "mimetype": "text/x-python",
   "name": "python",
   "nbconvert_exporter": "python",
   "pygments_lexer": "ipython3",
   "version": "3.9.1"
  }
 },
 "nbformat": 4,
 "nbformat_minor": 4
}
