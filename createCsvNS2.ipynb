{
 "cells": [
  {
   "cell_type": "code",
   "execution_count": 1,
   "metadata": {},
   "outputs": [],
   "source": [
    "import requests\n",
    "from lxml import etree\n",
    "import pickle\n",
    "import re\n",
    "import datetime\n",
    "import csv\n",
    "from dataclasses import dataclass\n",
    "from typing import Optional, Union"
   ]
  },
  {
   "cell_type": "code",
   "execution_count": 2,
   "metadata": {},
   "outputs": [],
   "source": [
    "pattern_title = re.compile(r'^収録曲/(かんたん|ふつう|むずかしい|おに)/(.+)$')"
   ]
  },
  {
   "cell_type": "code",
   "execution_count": 3,
   "metadata": {},
   "outputs": [],
   "source": [
    "@dataclass(frozen=True)\n",
    "class Song:\n",
    "    title: str\n",
    "    date: Optional[datetime.date]\n",
    "    work: Optional[str]"
   ]
  },
  {
   "cell_type": "code",
   "execution_count": 4,
   "metadata": {},
   "outputs": [],
   "source": [
    "with open('songs.pkl', 'br') as f:\n",
    "    songs = pickle.load(f)"
   ]
  },
  {
   "cell_type": "code",
   "execution_count": 5,
   "metadata": {},
   "outputs": [],
   "source": [
    "def get_titles_from_ns2(url):\n",
    "    response = requests.get(url)\n",
    "    html = etree.HTML(response.text)\n",
    "    tables = html.xpath('//table')\n",
    "    tables = [\n",
    "        t\n",
    "        for t in tables\n",
    "        if any(\n",
    "            'BPM' in etree.tostring(td, encoding=str)\n",
    "            for td in t.xpath('.//thead//td')\n",
    "        )\n",
    "    ]\n",
    "    rows = sum([table.xpath('.//tbody/tr') for table in tables], [])\n",
    "    return sum(\n",
    "        [\n",
    "            [\n",
    "                g.group(2)\n",
    "                for g in (\n",
    "                    pattern_title.match(t) for t in row.xpath('.//a/@title')\n",
    "                )\n",
    "                if g\n",
    "            ][:1]\n",
    "            for row in rows\n",
    "        ],\n",
    "        [],\n",
    "    )\n",
    "\n",
    "\n",
    "def get_titles_from_ns2_pass(url):\n",
    "    response = requests.get(url)\n",
    "    html = etree.HTML(response.text)\n",
    "    tables = html.xpath('//table')\n",
    "    tables = [\n",
    "        t\n",
    "        for t in tables\n",
    "        if any(\n",
    "            'BPM' in etree.tostring(td, encoding=str)\n",
    "            for td in t.xpath('.//thead//td')\n",
    "        )\n",
    "    ]\n",
    "    tables = tables[-7:]\n",
    "    rows = sum([table.xpath('.//tbody/tr') for table in tables], [])\n",
    "    return [\n",
    "        [\n",
    "            g.group(2)\n",
    "            for g in (pattern_title.match(t) for t in row.xpath('.//a/@title'))\n",
    "            if g\n",
    "        ][0]\n",
    "        for row in rows\n",
    "    ]"
   ]
  },
  {
   "cell_type": "code",
   "execution_count": 6,
   "metadata": {},
   "outputs": [],
   "source": [
    "def parse_song(song: Song) -> list:\n",
    "    return [song.title, song.date.strftime('%Y/%m/%d'), song.work]"
   ]
  },
  {
   "cell_type": "code",
   "execution_count": 7,
   "metadata": {},
   "outputs": [],
   "source": [
    "url = 'https://wikiwiki.jp/taiko-fumen/%E4%BD%9C%E5%93%81/NS2'\n",
    "url_pass = 'https://wikiwiki.jp/taiko-fumen/%E4%BD%9C%E5%93%81/NS2/%E5%A4%AA%E9%BC%93%E3%83%9F%E3%83%A5%E3%83%BC%E3%82%B8%E3%83%83%E3%82%AF%E3%83%91%E3%82%B9'"
   ]
  },
  {
   "cell_type": "code",
   "execution_count": 8,
   "metadata": {},
   "outputs": [],
   "source": [
    "titles_pass = get_titles_from_ns2(url_pass)"
   ]
  },
  {
   "cell_type": "code",
   "execution_count": 9,
   "metadata": {},
   "outputs": [],
   "source": [
    "titles = set(get_titles_from_ns2(url) + titles_pass)"
   ]
  },
  {
   "cell_type": "code",
   "execution_count": 10,
   "metadata": {},
   "outputs": [],
   "source": [
    "with open('songs.pkl', 'br') as f:\n",
    "    songs = pickle.load(f)"
   ]
  },
  {
   "cell_type": "code",
   "execution_count": 11,
   "metadata": {},
   "outputs": [],
   "source": [
    "songs_ns2 = [song for song in songs if song.title in titles]"
   ]
  },
  {
   "cell_type": "code",
   "execution_count": 12,
   "metadata": {},
   "outputs": [],
   "source": [
    "with open('songsNS2.csv', 'w', encoding='utf_8_sig', newline='') as f:\n",
    "    writer = csv.writer(f)\n",
    "    writer.writerow(['Title', 'Date', 'Work'])\n",
    "    writer.writerows([parse_song(song) for song in songs_ns2])"
   ]
  }
 ],
 "metadata": {
  "kernelspec": {
   "display_name": "Python 3 (ipykernel)",
   "language": "python",
   "name": "python3"
  },
  "language_info": {
   "codemirror_mode": {
    "name": "ipython",
    "version": 3
   },
   "file_extension": ".py",
   "mimetype": "text/x-python",
   "name": "python",
   "nbconvert_exporter": "python",
   "pygments_lexer": "ipython3",
   "version": "3.9.1"
  }
 },
 "nbformat": 4,
 "nbformat_minor": 4
}
